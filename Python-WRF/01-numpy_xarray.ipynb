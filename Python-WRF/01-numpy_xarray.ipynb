{
 "cells": [
  {
   "cell_type": "markdown",
   "id": "9fb162fb",
   "metadata": {},
   "source": [
    "# Numpy\n",
    "## Array Creation"
   ]
  },
  {
   "cell_type": "code",
   "execution_count": 4,
   "id": "11f6c37c",
   "metadata": {},
   "outputs": [],
   "source": [
    "import numpy as np\n",
    "\n",
    "array_float32 = np.zeros((3,3,3), \"float32\")\n",
    "\n",
    "array_int32 = np.zeros((3,3,3), \"int32\")"
   ]
  },
  {
   "cell_type": "markdown",
   "id": "c54b2e18",
   "metadata": {},
   "source": [
    "## Accessing Elements"
   ]
  },
  {
   "cell_type": "code",
   "execution_count": 5,
   "id": "80a751b0",
   "metadata": {},
   "outputs": [
    {
     "name": "stdout",
     "output_type": "stream",
     "text": [
      "0.0\n",
      "0.0\n",
      "0.0\n",
      "10.0\n"
     ]
    }
   ],
   "source": [
    "\n",
    "my_array = np.zeros((3,3,3), \"float32\")\n",
    "\n",
    "# Accessing elements\n",
    "first_element = my_array[0,0,0]\n",
    "print(first_element)\n",
    "\n",
    "last_element = my_array[-1,-1,-1]\n",
    "print(last_element)\n",
    "\n",
    "mid_element = my_array[1,1,1]\n",
    "print(mid_element)\n",
    "\n",
    "# Setting an element\n",
    "my_array[1,1,1] = 10.0\n",
    "print(my_array[1,1,1])"
   ]
  },
  {
   "cell_type": "markdown",
   "id": "f1e5a155",
   "metadata": {},
   "source": [
    "## Slices\n"
   ]
  },
  {
   "cell_type": "code",
   "execution_count": 16,
   "id": "27f6f88e",
   "metadata": {},
   "outputs": [
    {
     "name": "stdout",
     "output_type": "stream",
     "text": [
      "(3,)\n",
      "(3,)\n",
      "(3,)\n",
      "(3, 3, 2)\n",
      "(3, 3, 3)\n"
     ]
    }
   ],
   "source": [
    "my_array = np.zeros((3,3,3), \"float32\")\n",
    "\n",
    "first_row = my_array[0,0,:]\n",
    "print(first_row.shape)\n",
    "\n",
    "first_column = my_array[0,:,0]\n",
    "print(first_column.shape)\n",
    "\n",
    "first_z = my_array[:,0,0]\n",
    "print(first_z.shape)\n",
    "\n",
    "subset = my_array[:, :, 1:3]\n",
    "print(subset.shape)\n",
    "\n",
    "reverse_z = my_array[::-1, :, :]\n",
    "print(reverse_z.shape)"
   ]
  },
  {
   "cell_type": "code",
   "execution_count": 15,
   "id": "d366222c",
   "metadata": {},
   "outputs": [
    {
     "name": "stdout",
     "output_type": "stream",
     "text": [
      "(3, 3)\n",
      "(3, 3)\n",
      "(3, 3, 3)\n"
     ]
    }
   ],
   "source": [
    "# slices are implicitly applied from left to right for unspecified dimensions.\n",
    "\n",
    "my_array = np.zeros((3,3,3), \"float32\")\n",
    "\n",
    "first_plane = my_array[0,:,:]\n",
    "print(first_plane.shape)\n",
    "\n",
    "# This is the same as first_plane\n",
    "first_plane2 = my_array[0]\n",
    "print(first_plane2.shape)\n",
    "\n",
    "# A short way to get everything\n",
    "# Same as my_array[:,:,:]\n",
    "all_elements = my_array[:]\n",
    "print(all_elements.shape)"
   ]
  },
  {
   "cell_type": "markdown",
   "id": "4324bbda",
   "metadata": {},
   "source": [
    "# xarray\n",
    "## Creating an xarray Array from a numpy Array\n",
    "\n",
    "- 可以对每个变量进行定义不同的维度信息"
   ]
  },
  {
   "cell_type": "code",
   "execution_count": 22,
   "id": "3fce782f",
   "metadata": {},
   "outputs": [
    {
     "name": "stdout",
     "output_type": "stream",
     "text": [
      "<xarray.DataArray 'my_xarray' (bottom_top: 3, south_north: 3, west_east: 3)>\n",
      "array([[[0., 0., 0.],\n",
      "        [0., 0., 0.],\n",
      "        [0., 0., 0.]],\n",
      "\n",
      "       [[0., 0., 0.],\n",
      "        [0., 0., 0.],\n",
      "        [0., 0., 0.]],\n",
      "\n",
      "       [[0., 0., 0.],\n",
      "        [0., 0., 0.],\n",
      "        [0., 0., 0.]]], dtype=float32)\n",
      "Coordinates:\n",
      "  * bottom_top   (bottom_top) float64 100.0 200.0 300.0\n",
      "  * south_north  (south_north) float64 40.0 50.0 60.0\n",
      "  * west_east    (west_east) float64 -120.0 -110.0 -100.0\n",
      "Attributes:\n",
      "    info:     This is my xarray\n"
     ]
    }
   ],
   "source": [
    "import numpy as np\n",
    "import xarray\n",
    "\n",
    "my_array = np.zeros((3,3,3), \"float32\")\n",
    "\n",
    "# Making up dimension names and coordinates.\n",
    "my_name = \"my_xarray\"\n",
    "my_dims = [\"bottom_top\", \"south_north\", \"west_east\"]\n",
    "my_coords = {\"bottom_top\" : [100., 200., 300.],\n",
    "             \"south_north\": [40., 50., 60.],\n",
    "             \"west_east\" : [-120., -110., -100.]\n",
    "            }\n",
    "my_attrs = {\"info\" : \"This is my xarray\"}\n",
    "\n",
    "# Create the xarray DataArray\n",
    "my_xarray = xarray.DataArray(my_array,\n",
    "                             name=my_name,\n",
    "                             dims=my_dims, \n",
    "                             coords=my_coords, \n",
    "                             attrs=my_attrs)\n",
    "print(my_xarray)"
   ]
  },
  {
   "cell_type": "code",
   "execution_count": null,
   "id": "0df033c9",
   "metadata": {},
   "outputs": [],
   "source": []
  }
 ],
 "metadata": {
  "kernelspec": {
   "display_name": "Python 3 (ipykernel)",
   "language": "python",
   "name": "python3"
  },
  "language_info": {
   "codemirror_mode": {
    "name": "ipython",
    "version": 3
   },
   "file_extension": ".py",
   "mimetype": "text/x-python",
   "name": "python",
   "nbconvert_exporter": "python",
   "pygments_lexer": "ipython3",
   "version": "3.7.12"
  }
 },
 "nbformat": 4,
 "nbformat_minor": 5
}
