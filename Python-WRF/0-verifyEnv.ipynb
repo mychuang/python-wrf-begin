{
 "cells": [
  {
   "cell_type": "code",
   "execution_count": 8,
   "id": "609b8bb2",
   "metadata": {},
   "outputs": [],
   "source": [
    "import netCDF4\n",
    "import matplotlib\n",
    "import xarray\n",
    "import wrf"
   ]
  },
  {
   "cell_type": "code",
   "execution_count": 9,
   "id": "c252ce87",
   "metadata": {},
   "outputs": [
    {
     "name": "stdout",
     "output_type": "stream",
     "text": [
      "1.21.6\n"
     ]
    }
   ],
   "source": [
    "\"\"\"\n",
    "依賴包\n",
    "\"\"\"\n",
    "import numpy as np\n",
    "print(np.version.version)"
   ]
  },
  {
   "cell_type": "code",
   "execution_count": 10,
   "id": "f69f8a4c",
   "metadata": {},
   "outputs": [],
   "source": [
    "import pandas as pd\n",
    "import xarray as xr\n",
    "import wrapt\n",
    "import setuptools"
   ]
  },
  {
   "cell_type": "code",
   "execution_count": 11,
   "id": "9347514e",
   "metadata": {},
   "outputs": [],
   "source": [
    "\"\"\"\n",
    "wrf\n",
    "\"\"\"\n",
    "from __future__ import print_function\n",
    "from wrf import getvar\n",
    "from netCDF4 import Dataset"
   ]
  },
  {
   "cell_type": "code",
   "execution_count": 12,
   "id": "f687459c",
   "metadata": {},
   "outputs": [],
   "source": [
    "\"\"\"\n",
    "ploting lib\n",
    "\"\"\"\n",
    "import matplotlib.pyplot as plt\n",
    "from matplotlib.cm import get_cmap\n",
    "import cartopy.crs as crs"
   ]
  }
 ],
 "metadata": {
  "kernelspec": {
   "display_name": "Python 3 (ipykernel)",
   "language": "python",
   "name": "python3"
  },
  "language_info": {
   "codemirror_mode": {
    "name": "ipython",
    "version": 3
   },
   "file_extension": ".py",
   "mimetype": "text/x-python",
   "name": "python",
   "nbconvert_exporter": "python",
   "pygments_lexer": "ipython3",
   "version": "3.7.12"
  }
 },
 "nbformat": 4,
 "nbformat_minor": 5
}
